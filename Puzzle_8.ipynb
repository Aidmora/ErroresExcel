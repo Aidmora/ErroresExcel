{
  "nbformat": 4,
  "nbformat_minor": 0,
  "metadata": {
    "colab": {
      "provenance": [],
      "authorship_tag": "ABX9TyMAYhTMY6c77Gx5Ee9vwuzJ",
      "include_colab_link": true
    },
    "kernelspec": {
      "name": "python3",
      "display_name": "Python 3"
    },
    "language_info": {
      "name": "python"
    }
  },
  "cells": [
    {
      "cell_type": "markdown",
      "metadata": {
        "id": "view-in-github",
        "colab_type": "text"
      },
      "source": [
        "<a href=\"https://colab.research.google.com/github/Aidmora/ErroresExcel/blob/master/Puzzle_8.ipynb\" target=\"_parent\"><img src=\"https://colab.research.google.com/assets/colab-badge.svg\" alt=\"Open In Colab\"/></a>"
      ]
    },
    {
      "cell_type": "markdown",
      "source": [
        "1. Importación de librerías"
      ],
      "metadata": {
        "id": "A2Ouooqjplpl"
      }
    },
    {
      "cell_type": "code",
      "source": [
        "# Sección 1: Importación de Librerías\n",
        "import heapq\n",
        "from collections import deque\n",
        "import random\n",
        "import matplotlib.pyplot as plt\n",
        "import statistics\n"
      ],
      "metadata": {
        "id": "W7OVnt73poBe"
      },
      "execution_count": null,
      "outputs": []
    },
    {
      "cell_type": "markdown",
      "source": [
        "2. Definición de heurísticas\n"
      ],
      "metadata": {
        "id": "DGjACBMCp1FY"
      }
    },
    {
      "cell_type": "code",
      "source": [
        "# Sección 2: Definición de Heurísticas\n",
        "\n",
        "def calcularFichasDesplazadas(estadoActual, estadoObjetivo):\n",
        "    \"\"\"\n",
        "    Calcula el número de fichas que están fuera de lugar en el estado actual.\n",
        "\n",
        "    :param estadoActual: Tupla que representa el estado actual del 8-puzzle.\n",
        "    :param estadoObjetivo: Tupla que representa el estado objetivo del 8-puzzle.\n",
        "    :return: Número de fichas desplazadas.\n",
        "    \"\"\"\n",
        "    return sum(1 for i in range(9) if estadoActual[i] != estadoObjetivo[i] and estadoActual[i] != 0)\n"
      ],
      "metadata": {
        "id": "AjmFHJ00p4Fv"
      },
      "execution_count": null,
      "outputs": []
    },
    {
      "cell_type": "markdown",
      "source": [
        "3. Funciones Auxiliares"
      ],
      "metadata": {
        "id": "GFWv5pUnp95x"
      }
    },
    {
      "cell_type": "code",
      "source": [
        "# Sección 3: Funciones Auxiliares\n",
        "\n",
        "def obtenerVecinos(estado):\n",
        "    \"\"\"\n",
        "    Genera todos los estados vecinos posibles moviendo la ficha vacía.\n",
        "\n",
        "    :param estado: Tupla que representa el estado actual del 8-puzzle.\n",
        "    :return: Lista de tuplas que representan los estados vecinos.\n",
        "    \"\"\"\n",
        "    vecinos = []\n",
        "    indiceVacio = estado.index(0)  # 0 representa la ficha vacía\n",
        "    fila, columna = divmod(indiceVacio, 3)\n",
        "    movimientos = []\n",
        "\n",
        "    # Definir posibles movimientos\n",
        "    if fila > 0:\n",
        "        movimientos.append(-3)  # Mover hacia arriba\n",
        "    if fila < 2:\n",
        "        movimientos.append(3)   # Mover hacia abajo\n",
        "    if columna > 0:\n",
        "        movimientos.append(-1)  # Mover hacia la izquierda\n",
        "    if columna < 2:\n",
        "        movimientos.append(1)   # Mover hacia la derecha\n",
        "\n",
        "    for movimiento in movimientos:\n",
        "        nuevoIndice = indiceVacio + movimiento\n",
        "        nuevoEstado = list(estado)\n",
        "        nuevoEstado[indiceVacio], nuevoEstado[nuevoIndice] = nuevoEstado[nuevoIndice], nuevoEstado[indiceVacio]\n",
        "        vecinos.append(tuple(nuevoEstado))\n",
        "\n",
        "    return vecinos\n",
        "\n",
        "def esSolvable(estado):\n",
        "    \"\"\"\n",
        "    Verifica si un estado del 8-puzzle es resolvible.\n",
        "\n",
        "    :param estado: Tupla que representa el estado del 8-puzzle.\n",
        "    :return: Booleano indicando si es resolvible.\n",
        "    \"\"\"\n",
        "    invCount = 0\n",
        "    estadoSinCero = [num for num in estado if num != 0]\n",
        "    for i in range(len(estadoSinCero)):\n",
        "        for j in range(i + 1, len(estadoSinCero)):\n",
        "            if estadoSinCero[i] > estadoSinCero[j]:\n",
        "                invCount += 1\n",
        "    return invCount % 2 == 0\n",
        "\n",
        "def generarEstadoAleatorio(estadoObjetivo, numMovimientos=10):\n",
        "    \"\"\"\n",
        "    Genera un estado inicial aleatorio y resolvible del 8-puzzle realizando un número limitado de movimientos desde el estado objetivo.\n",
        "\n",
        "    :param estadoObjetivo: Tupla que representa el estado objetivo del 8-puzzle.\n",
        "    :param numMovimientos: Número de movimientos aleatorios a realizar desde el estado objetivo.\n",
        "    :return: Tupla que representa el estado inicial aleatorio.\n",
        "    \"\"\"\n",
        "    estado = list(estadoObjetivo)\n",
        "    movimientosRealizados = 0\n",
        "    ultimoMovimiento = None  # Para evitar movimientos que deshacen el anterior\n",
        "\n",
        "    while movimientosRealizados < numMovimientos:\n",
        "        vecinos = obtenerVecinos(tuple(estado))\n",
        "\n",
        "        # Filtrar movimientos que deshacen el último movimiento\n",
        "        if ultimoMovimiento is not None:\n",
        "            if ultimoMovimiento == 'arriba':\n",
        "                vecinos = [v for v in vecinos if v.index(0) != estado.index(0) - 3]\n",
        "            elif ultimoMovimiento == 'abajo':\n",
        "                vecinos = [v for v in vecinos if v.index(0) != estado.index(0) + 3]\n",
        "            elif ultimoMovimiento == 'izquierda':\n",
        "                vecinos = [v for v in vecinos if v.index(0) != estado.index(0) - 1]\n",
        "            elif ultimoMovimiento == 'derecha':\n",
        "                vecinos = [v for v in vecinos if v.index(0) != estado.index(0) + 1]\n",
        "\n",
        "        if not vecinos:\n",
        "            break  # No hay más movimientos posibles\n",
        "\n",
        "        nuevoEstado = random.choice(vecinos)\n",
        "\n",
        "        # Determinar el movimiento realizado\n",
        "        delta = nuevoEstado.index(0) - estado.index(0)\n",
        "        if delta == -3:\n",
        "            ultimoMovimiento = 'abajo'\n",
        "        elif delta == 3:\n",
        "            ultimoMovimiento = 'arriba'\n",
        "        elif delta == -1:\n",
        "            ultimoMovimiento = 'derecha'\n",
        "        elif delta == 1:\n",
        "            ultimoMovimiento = 'izquierda'\n",
        "\n",
        "        estado = list(nuevoEstado)\n",
        "        movimientosRealizados += 1\n",
        "\n",
        "    return tuple(estado)\n",
        "\n"
      ],
      "metadata": {
        "id": "eSgYdyW0qBT6"
      },
      "execution_count": null,
      "outputs": []
    },
    {
      "cell_type": "markdown",
      "source": [
        "4. Implementación de Algoritmos de Búsqueda"
      ],
      "metadata": {
        "id": "_oBlVDYDqGWz"
      }
    },
    {
      "cell_type": "code",
      "source": [
        "# Sección 4: Implementación de Algoritmos de Búsqueda\n",
        "\n",
        "def realizarBFS(estadoInicial, estadoObjetivo, maxIteraciones=100000):\n",
        "    \"\"\"\n",
        "    Realiza la búsqueda en Primero Anchura (BFS) para resolver el 8-puzzle.\n",
        "\n",
        "    :param estadoInicial: Tupla que representa el estado inicial del 8-puzzle.\n",
        "    :param estadoObjetivo: Tupla que representa el estado objetivo del 8-puzzle.\n",
        "    :param maxIteraciones: Máximo de iteraciones permitidas para evitar bloqueos.\n",
        "    :return: Número de iteraciones que tomó encontrar la solución o None si no se encontró.\n",
        "    \"\"\"\n",
        "    cola = deque([estadoInicial])\n",
        "    explorados = set()\n",
        "    iteraciones = 0\n",
        "\n",
        "    while cola and iteraciones < maxIteraciones:\n",
        "        estado = cola.popleft()\n",
        "        iteraciones += 1\n",
        "\n",
        "        if estado == estadoObjetivo:\n",
        "            return iteraciones\n",
        "\n",
        "        explorados.add(estado)\n",
        "\n",
        "        for vecino in obtenerVecinos(estado):\n",
        "            if vecino not in explorados and vecino not in cola:\n",
        "                cola.append(vecino)\n",
        "\n",
        "    return None  # Indica que no se encontró la solución dentro del límite de iteraciones\n",
        "\n",
        "def realizarBusquedaGreedy(estadoInicial, estadoObjetivo, heuristica, maxIteraciones=100000):\n",
        "    \"\"\"\n",
        "    Realiza la búsqueda Greedy (Búsqueda Voraz) para resolver el 8-puzzle.\n",
        "\n",
        "    :param estadoInicial: Tupla que representa el estado inicial del 8-puzzle.\n",
        "    :param estadoObjetivo: Tupla que representa el estado objetivo del 8-puzzle.\n",
        "    :param heuristica: Función heurística a utilizar.\n",
        "    :param maxIteraciones: Máximo de iteraciones permitidas para evitar bloqueos.\n",
        "    :return: Número de iteraciones que tomó encontrar la solución o None si no se encontró.\n",
        "    \"\"\"\n",
        "    colaPrioridad = []\n",
        "    heapq.heappush(colaPrioridad, (heuristica(estadoInicial, estadoObjetivo), estadoInicial))\n",
        "    explorados = set()\n",
        "    iteraciones = 0\n",
        "\n",
        "    while colaPrioridad and iteraciones < maxIteraciones:\n",
        "        _, estado = heapq.heappop(colaPrioridad)\n",
        "        iteraciones += 1\n",
        "\n",
        "        if estado == estadoObjetivo:\n",
        "            return iteraciones\n",
        "\n",
        "        explorados.add(estado)\n",
        "\n",
        "        for vecino in obtenerVecinos(estado):\n",
        "            if vecino not in explorados:\n",
        "                heapq.heappush(colaPrioridad, (heuristica(vecino, estadoObjetivo), vecino))\n",
        "\n",
        "    return None  # Indica que no se encontró la solución dentro del límite de iteraciones\n",
        "\n",
        "def realizarAStar(estadoInicial, estadoObjetivo, heuristica, maxIteraciones=100000):\n",
        "    \"\"\"\n",
        "    Realiza la búsqueda A* para resolver el 8-puzzle.\n",
        "\n",
        "    :param estadoInicial: Tupla que representa el estado inicial del 8-puzzle.\n",
        "    :param estadoObjetivo: Tupla que representa el estado objetivo del 8-puzzle.\n",
        "    :param heuristica: Función heurística a utilizar.\n",
        "    :param maxIteraciones: Máximo de iteraciones permitidas para evitar bloqueos.\n",
        "    :return: Número de iteraciones que tomó encontrar la solución o None si no se encontró.\n",
        "    \"\"\"\n",
        "    colaPrioridad = []\n",
        "    heapq.heappush(colaPrioridad, (heuristica(estadoInicial, estadoObjetivo), 0, estadoInicial))\n",
        "    explorados = set()\n",
        "    costoAcumulado = {estadoInicial: 0}\n",
        "    iteraciones = 0\n",
        "\n",
        "    while colaPrioridad and iteraciones < maxIteraciones:\n",
        "        _, costo, estado = heapq.heappop(colaPrioridad)\n",
        "        iteraciones += 1\n",
        "\n",
        "        if estado == estadoObjetivo:\n",
        "            return iteraciones\n",
        "\n",
        "        explorados.add(estado)\n",
        "\n",
        "        for vecino in obtenerVecinos(estado):\n",
        "            nuevoCosto = costo + 1  # Cada movimiento tiene costo 1\n",
        "            if vecino not in costoAcumulado or nuevoCosto < costoAcumulado[vecino]:\n",
        "                costoAcumulado[vecino] = nuevoCosto\n",
        "                prioridad = nuevoCosto + heuristica(vecino, estadoObjetivo)\n",
        "                heapq.heappush(colaPrioridad, (prioridad, nuevoCosto, vecino))\n",
        "\n",
        "    return None  # Indica que no se encontró la solución dentro del límite de iteraciones\n",
        "\n"
      ],
      "metadata": {
        "id": "mBtngqHpqLxZ"
      },
      "execution_count": null,
      "outputs": []
    },
    {
      "cell_type": "markdown",
      "source": [
        "5. Ejecución de Algoritmos y Recolección de Resultados"
      ],
      "metadata": {
        "id": "aQi5mYgfqOQQ"
      }
    },
    {
      "cell_type": "code",
      "source": [
        "# Sección 5: Ejecución de Algoritmos y Recolección de Resultados\n",
        "\n",
        "# Definición del Estado Objetivo\n",
        "estadoObjetivo = (0, 1, 2,\n",
        "                 3, 4, 5,\n",
        "                 6, 7, 8)\n",
        "\n",
        "# Listas para almacenar el número de iteraciones de cada algoritmo\n",
        "iteracionesBFS = []\n",
        "iteracionesGreedy = []\n",
        "iteracionesAStar = []\n",
        "\n",
        "# Número de ejecuciones\n",
        "numEjecuciones = 50\n",
        "\n",
        "for ejecucion in range(1, numEjecuciones + 1):\n",
        "    estadoInicial = generarEstadoAleatorio(estadoObjetivo)\n",
        "\n",
        "    # Ejecutar BFS\n",
        "    iterBFS = realizarBFS(estadoInicial, estadoObjetivo)\n",
        "    if iterBFS is not None:\n",
        "        iteracionesBFS.append(iterBFS)\n",
        "    else:\n",
        "        iteracionesBFS.append(100000)  # Asignar el máximo si no se encontró solución\n",
        "        print(f\"Ejecución {ejecucion}: BFS no encontró solución dentro del límite de iteraciones.\")\n",
        "\n",
        "    # Ejecutar Búsqueda Greedy con Fichas Desplazadas\n",
        "    iterGreedy = realizarBusquedaGreedy(estadoInicial, estadoObjetivo, calcularFichasDesplazadas)\n",
        "    if iterGreedy is not None:\n",
        "        iteracionesGreedy.append(iterGreedy)\n",
        "    else:\n",
        "        iteracionesGreedy.append(100000)\n",
        "        print(f\"Ejecución {ejecucion}: Greedy no encontró solución dentro del límite de iteraciones.\")\n",
        "\n",
        "    # Ejecutar A* con Fichas Desplazadas\n",
        "    iterAStar = realizarAStar(estadoInicial, estadoObjetivo, calcularFichasDesplazadas)\n",
        "    if iterAStar is not None:\n",
        "        iteracionesAStar.append(iterAStar)\n",
        "    else:\n",
        "        iteracionesAStar.append(100000)\n",
        "        print(f\"Ejecución {ejecucion}: A* no encontró solución dentro del límite de iteraciones.\")\n",
        "\n",
        "    print(f\"Ejecución {ejecucion} completada.\")\n",
        "\n"
      ],
      "metadata": {
        "colab": {
          "base_uri": "https://localhost:8080/"
        },
        "id": "tElAnWgKqbb3",
        "outputId": "aef6d6f7-cb8e-40d8-c0e5-b0c273bc6255"
      },
      "execution_count": null,
      "outputs": [
        {
          "output_type": "stream",
          "name": "stdout",
          "text": [
            "Ejecución 1 completada.\n",
            "Ejecución 2 completada.\n",
            "Ejecución 3 completada.\n",
            "Ejecución 4 completada.\n",
            "Ejecución 5 completada.\n",
            "Ejecución 6 completada.\n",
            "Ejecución 7 completada.\n",
            "Ejecución 8 completada.\n",
            "Ejecución 9 completada.\n",
            "Ejecución 10 completada.\n",
            "Ejecución 11 completada.\n",
            "Ejecución 12 completada.\n",
            "Ejecución 13 completada.\n",
            "Ejecución 14 completada.\n",
            "Ejecución 15 completada.\n",
            "Ejecución 16 completada.\n",
            "Ejecución 17 completada.\n",
            "Ejecución 18 completada.\n",
            "Ejecución 19 completada.\n",
            "Ejecución 20 completada.\n",
            "Ejecución 21 completada.\n",
            "Ejecución 22 completada.\n",
            "Ejecución 23 completada.\n",
            "Ejecución 24 completada.\n",
            "Ejecución 25 completada.\n",
            "Ejecución 26 completada.\n",
            "Ejecución 27 completada.\n",
            "Ejecución 28 completada.\n",
            "Ejecución 29 completada.\n",
            "Ejecución 30 completada.\n",
            "Ejecución 31 completada.\n",
            "Ejecución 32 completada.\n",
            "Ejecución 33 completada.\n",
            "Ejecución 34 completada.\n",
            "Ejecución 35 completada.\n",
            "Ejecución 36 completada.\n",
            "Ejecución 37 completada.\n",
            "Ejecución 38 completada.\n",
            "Ejecución 39 completada.\n",
            "Ejecución 40 completada.\n",
            "Ejecución 41 completada.\n",
            "Ejecución 42 completada.\n",
            "Ejecución 43 completada.\n",
            "Ejecución 44 completada.\n",
            "Ejecución 45 completada.\n",
            "Ejecución 46 completada.\n",
            "Ejecución 47 completada.\n",
            "Ejecución 48 completada.\n",
            "Ejecución 49 completada.\n",
            "Ejecución 50 completada.\n"
          ]
        }
      ]
    },
    {
      "cell_type": "markdown",
      "source": [
        "6. Visualización de Resultados"
      ],
      "metadata": {
        "id": "c4QqmtCwqc3z"
      }
    },
    {
      "cell_type": "code",
      "source": [
        "# Sección 6: Visualización de Resultados (Histogramas)\n",
        "\n",
        "plt.figure(figsize=(18, 5))\n",
        "\n",
        "# Histograma para BFS\n",
        "plt.subplot(1, 3, 1)\n",
        "plt.hist(iteracionesBFS, bins=20, color='blue', alpha=0.7)\n",
        "plt.xlabel('Número de Iteraciones')\n",
        "plt.ylabel('Frecuencia')\n",
        "plt.title('BFS: Número de Iteraciones')\n",
        "\n",
        "# Histograma para Búsqueda Greedy\n",
        "plt.subplot(1, 3, 2)\n",
        "plt.hist(iteracionesGreedy, bins=20, color='green', alpha=0.7)\n",
        "plt.xlabel('Número de Iteraciones')\n",
        "plt.ylabel('Frecuencia')\n",
        "plt.title('Greedy: Número de Iteraciones')\n",
        "\n",
        "# Histograma para A*\n",
        "plt.subplot(1, 3, 3)\n",
        "plt.hist(iteracionesAStar, bins=20, color='red', alpha=0.7)\n",
        "plt.xlabel('Número de Iteraciones')\n",
        "plt.ylabel('Frecuencia')\n",
        "plt.title('A*: Número de Iteraciones')\n",
        "\n",
        "plt.tight_layout()\n",
        "plt.show()\n",
        "\n"
      ],
      "metadata": {
        "colab": {
          "base_uri": "https://localhost:8080/",
          "height": 245
        },
        "id": "VDwJiGnHqf5m",
        "outputId": "ce19ddfc-e2d3-490e-d3b7-75d0bc46cad9"
      },
      "execution_count": null,
      "outputs": [
        {
          "output_type": "display_data",
          "data": {
            "text/plain": [
              "<Figure size 1800x500 with 3 Axes>"
            ],
            "image/png": "[encoded data removed]"
          },
          "metadata": {}
        }
      ]
    },
    {
      "cell_type": "markdown",
      "source": [
        "7. Cálculo del promedio de iteraciones y desviación estándar"
      ],
      "metadata": {
        "id": "NHPadLoSqjyS"
      }
    },
    {
      "cell_type": "code",
      "source": [
        "# Sección 7: Cálculo de Estadísticas (Promedio y Desviación Estándar)\n",
        "\n",
        "promedioBFS = statistics.mean(iteracionesBFS)\n",
        "desviacionBFS = statistics.stdev(iteracionesBFS) if len(iteracionesBFS) > 1 else 0\n",
        "\n",
        "promedioGreedy = statistics.mean(iteracionesGreedy)\n",
        "desviacionGreedy = statistics.stdev(iteracionesGreedy) if len(iteracionesGreedy) > 1 else 0\n",
        "\n",
        "promedioAStar = statistics.mean(iteracionesAStar)\n",
        "desviacionAStar = statistics.stdev(iteracionesAStar) if len(iteracionesAStar) > 1 else 0\n",
        "\n",
        "print(f\"BFS - Promedio de Iteraciones: {promedioBFS:.2f}, Desviación Estándar: {desviacionBFS:.2f}\")\n",
        "print(f\"Greedy - Promedio de Iteraciones: {promedioGreedy:.2f}, Desviación Estándar: {desviacionGreedy:.2f}\")\n",
        "print(f\"A* - Promedio de Iteraciones: {promedioAStar:.2f}, Desviación Estándar: {desviacionAStar:.2f}\")\n"
      ],
      "metadata": {
        "colab": {
          "base_uri": "https://localhost:8080/"
        },
        "id": "pjdKHbgqqpam",
        "outputId": "87f452fd-055e-4a8d-cb84-c800131d759c"
      },
      "execution_count": null,
      "outputs": [
        {
          "output_type": "stream",
          "name": "stdout",
          "text": [
            "BFS - Promedio de Iteraciones: 576.76, Desviación Estándar: 160.00\n",
            "Greedy - Promedio de Iteraciones: 110.04, Desviación Estándar: 151.82\n",
            "A* - Promedio de Iteraciones: 37.10, Desviación Estándar: 11.83\n"
          ]
        }
      ]
    }
  ]
}